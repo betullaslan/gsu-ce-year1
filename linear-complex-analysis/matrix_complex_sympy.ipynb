{
 "cells": [
  {
   "cell_type": "code",
   "execution_count": 1,
   "id": "cb5f6f3c",
   "metadata": {},
   "outputs": [],
   "source": [
    "import sympy\n",
    "from sympy import *\n",
    "n=symbols(\"n\")\n",
    "x=symbols(\"x\")\n",
    "y=symbols(\"y\")\n",
    "z=symbols(\"z\")"
   ]
  },
  {
   "cell_type": "code",
   "execution_count": 2,
   "id": "61379615",
   "metadata": {},
   "outputs": [
    {
     "data": {
      "text/latex": [
       "$\\displaystyle \\left[\\begin{matrix}\\cos{\\left(x + y \\right)} & - \\sin{\\left(x + y \\right)}\\\\\\sin{\\left(x + y \\right)} & \\cos{\\left(x + y \\right)}\\end{matrix}\\right]$"
      ],
      "text/plain": [
       "Matrix([\n",
       "[cos(x + y), -sin(x + y)],\n",
       "[sin(x + y),  cos(x + y)]])"
      ]
     },
     "execution_count": 2,
     "metadata": {},
     "output_type": "execute_result"
    }
   ],
   "source": [
    "matrix3_Ax=Matrix([[cos(x),-sin(x)],[sin(x),cos(x)]])\n",
    "matrix3_Ay=Matrix([[cos(y),-sin(y)],[sin(y),cos(y)]])\n",
    "matrix_product_A=(matrix3_Ax)*(matrix3_Ay)\n",
    "matrix_product_A_simple= simplify(matrix_product_A)\n",
    "matrix_product_A_simple\n",
    "# A(x).A(y) = A(x+y)"
   ]
  },
  {
   "cell_type": "code",
   "execution_count": 3,
   "id": "c478cdfe",
   "metadata": {},
   "outputs": [
    {
     "data": {
      "text/latex": [
       "$\\displaystyle \\left[\\begin{matrix}\\cosh{\\left(x + y \\right)} & \\sinh{\\left(x + y \\right)}\\\\\\sinh{\\left(x + y \\right)} & \\cosh{\\left(x + y \\right)}\\end{matrix}\\right]$"
      ],
      "text/plain": [
       "Matrix([\n",
       "[cosh(x + y), sinh(x + y)],\n",
       "[sinh(x + y), cosh(x + y)]])"
      ]
     },
     "execution_count": 3,
     "metadata": {},
     "output_type": "execute_result"
    }
   ],
   "source": [
    "matrix3_Bx=Matrix([[cosh(x),sinh(x)],[sinh(x),cosh(x)]])\n",
    "matrix3_By=Matrix([[cosh(y),sinh(y)],[sinh(y),cosh(y)]])\n",
    "matrix_product_B=(matrix3_Bx)*(matrix3_By)\n",
    "matrix_product_B_simple= simplify(matrix_product_B)\n",
    "matrix_product_B_simple\n",
    "# B(x).B(y) = B(x+y)"
   ]
  },
  {
   "cell_type": "code",
   "execution_count": 4,
   "id": "727f5495",
   "metadata": {},
   "outputs": [
    {
     "data": {
      "text/latex": [
       "$\\displaystyle \\left[\\begin{matrix}\\cos{\\left(x \\right)} & \\sin{\\left(x \\right)}\\\\- \\sin{\\left(x \\right)} & \\cos{\\left(x \\right)}\\end{matrix}\\right]$"
      ],
      "text/plain": [
       "Matrix([\n",
       "[ cos(x), sin(x)],\n",
       "[-sin(x), cos(x)]])"
      ]
     },
     "execution_count": 4,
     "metadata": {},
     "output_type": "execute_result"
    }
   ],
   "source": [
    "matrix3_Ax_inverse=matrix3_Ax.inv()\n",
    "matrix3_Ax_inverse_simple=simplify(matrix3_Ax_inverse)\n",
    "matrix3_Ax_inverse_simple"
   ]
  },
  {
   "cell_type": "code",
   "execution_count": 5,
   "id": "445352c1",
   "metadata": {},
   "outputs": [
    {
     "data": {
      "text/latex": [
       "$\\displaystyle \\left[\\begin{matrix}\\cosh{\\left(x \\right)} & - \\sinh{\\left(x \\right)}\\\\- \\sinh{\\left(x \\right)} & \\cosh{\\left(x \\right)}\\end{matrix}\\right]$"
      ],
      "text/plain": [
       "Matrix([\n",
       "[ cosh(x), -sinh(x)],\n",
       "[-sinh(x),  cosh(x)]])"
      ]
     },
     "execution_count": 5,
     "metadata": {},
     "output_type": "execute_result"
    }
   ],
   "source": [
    "matrix3_Bx_inverse=matrix3_Bx.inv()\n",
    "matrix3_Bx_inverse_simple=simplify(matrix3_Bx_inverse)\n",
    "matrix3_Bx_inverse_simple"
   ]
  },
  {
   "cell_type": "code",
   "execution_count": 6,
   "id": "3abaa99b",
   "metadata": {},
   "outputs": [
    {
     "data": {
      "text/latex": [
       "$\\displaystyle \\left[\\begin{matrix}\\frac{\\left(- \\sqrt{- \\sin^{2}{\\left(x \\right)}} + \\cos{\\left(x \\right)}\\right)^{n}}{2} + \\frac{\\left(\\sqrt{- \\sin^{2}{\\left(x \\right)}} + \\cos{\\left(x \\right)}\\right)^{n}}{2} & \\frac{\\left(\\left(- \\sqrt{- \\sin^{2}{\\left(x \\right)}} + \\cos{\\left(x \\right)}\\right)^{n} - \\left(\\sqrt{- \\sin^{2}{\\left(x \\right)}} + \\cos{\\left(x \\right)}\\right)^{n}\\right) \\sin{\\left(x \\right)}}{2 \\sqrt{- \\sin^{2}{\\left(x \\right)}}}\\\\\\frac{\\sqrt{- \\sin^{2}{\\left(x \\right)}} \\left(\\left(- \\sqrt{- \\sin^{2}{\\left(x \\right)}} + \\cos{\\left(x \\right)}\\right)^{n} - \\left(\\sqrt{- \\sin^{2}{\\left(x \\right)}} + \\cos{\\left(x \\right)}\\right)^{n}\\right)}{2 \\sin{\\left(x \\right)}} & \\frac{\\left(- \\sqrt{- \\sin^{2}{\\left(x \\right)}} + \\cos{\\left(x \\right)}\\right)^{n}}{2} + \\frac{\\left(\\sqrt{- \\sin^{2}{\\left(x \\right)}} + \\cos{\\left(x \\right)}\\right)^{n}}{2}\\end{matrix}\\right]$"
      ],
      "text/plain": [
       "Matrix([\n",
       "[                          (-sqrt(-sin(x)**2) + cos(x))**n/2 + (sqrt(-sin(x)**2) + cos(x))**n/2, ((-sqrt(-sin(x)**2) + cos(x))**n - (sqrt(-sin(x)**2) + cos(x))**n)*sin(x)/(2*sqrt(-sin(x)**2))],\n",
       "[sqrt(-sin(x)**2)*((-sqrt(-sin(x)**2) + cos(x))**n - (sqrt(-sin(x)**2) + cos(x))**n)/(2*sin(x)),                           (-sqrt(-sin(x)**2) + cos(x))**n/2 + (sqrt(-sin(x)**2) + cos(x))**n/2]])"
      ]
     },
     "execution_count": 6,
     "metadata": {},
     "output_type": "execute_result"
    }
   ],
   "source": [
    "matrix3_Ax_exponent=(matrix3_Ax**n)\n",
    "matrix3_Ax_exponent_simple=simplify(matrix3_Ax_exponent)\n",
    "matrix3_Ax_exponent_simple"
   ]
  },
  {
   "cell_type": "code",
   "execution_count": 7,
   "id": "f34b1aea",
   "metadata": {},
   "outputs": [
    {
     "data": {
      "text/latex": [
       "$\\displaystyle \\left[\\begin{matrix}\\frac{\\left(- \\sqrt{\\sinh^{2}{\\left(x \\right)}} + \\cosh{\\left(x \\right)}\\right)^{n}}{2} + \\frac{\\left(\\sqrt{\\sinh^{2}{\\left(x \\right)}} + \\cosh{\\left(x \\right)}\\right)^{n}}{2} & - \\frac{\\left(\\left(- \\sqrt{\\sinh^{2}{\\left(x \\right)}} + \\cosh{\\left(x \\right)}\\right)^{n} - \\left(\\sqrt{\\sinh^{2}{\\left(x \\right)}} + \\cosh{\\left(x \\right)}\\right)^{n}\\right) \\sinh{\\left(x \\right)}}{2 \\sqrt{\\sinh^{2}{\\left(x \\right)}}}\\\\- \\frac{\\left(\\left(- \\sqrt{\\sinh^{2}{\\left(x \\right)}} + \\cosh{\\left(x \\right)}\\right)^{n} - \\left(\\sqrt{\\sinh^{2}{\\left(x \\right)}} + \\cosh{\\left(x \\right)}\\right)^{n}\\right) \\sqrt{\\sinh^{2}{\\left(x \\right)}}}{2 \\sinh{\\left(x \\right)}} & \\frac{\\left(- \\sqrt{\\sinh^{2}{\\left(x \\right)}} + \\cosh{\\left(x \\right)}\\right)^{n}}{2} + \\frac{\\left(\\sqrt{\\sinh^{2}{\\left(x \\right)}} + \\cosh{\\left(x \\right)}\\right)^{n}}{2}\\end{matrix}\\right]$"
      ],
      "text/plain": [
       "Matrix([\n",
       "[                            (-sqrt(sinh(x)**2) + cosh(x))**n/2 + (sqrt(sinh(x)**2) + cosh(x))**n/2, -((-sqrt(sinh(x)**2) + cosh(x))**n - (sqrt(sinh(x)**2) + cosh(x))**n)*sinh(x)/(2*sqrt(sinh(x)**2))],\n",
       "[-((-sqrt(sinh(x)**2) + cosh(x))**n - (sqrt(sinh(x)**2) + cosh(x))**n)*sqrt(sinh(x)**2)/(2*sinh(x)),                             (-sqrt(sinh(x)**2) + cosh(x))**n/2 + (sqrt(sinh(x)**2) + cosh(x))**n/2]])"
      ]
     },
     "execution_count": 7,
     "metadata": {},
     "output_type": "execute_result"
    }
   ],
   "source": [
    "matrix3_Bx_exponent=(matrix3_Bx**n)\n",
    "matrix3_Bx_exponent_simple=simplify(matrix3_Bx_exponent)\n",
    "matrix3_Bx_exponent_simple"
   ]
  },
  {
   "cell_type": "code",
   "execution_count": 8,
   "id": "6a41fc17",
   "metadata": {},
   "outputs": [
    {
     "data": {
      "text/latex": [
       "$\\displaystyle \\left[\\begin{matrix}- \\frac{1}{7} & \\frac{2}{7} & 0\\\\0 & - \\frac{1}{7} & \\frac{2}{7}\\\\\\frac{2}{7} & 0 & - \\frac{1}{7}\\end{matrix}\\right]$"
      ],
      "text/plain": [
       "Matrix([\n",
       "[-1/7,  2/7,    0],\n",
       "[   0, -1/7,  2/7],\n",
       "[ 2/7,    0, -1/7]])"
      ]
     },
     "execution_count": 8,
     "metadata": {},
     "output_type": "execute_result"
    }
   ],
   "source": [
    "matrix4_1=Matrix([[1,2,4],[4,1,2],[2,4,1]])\n",
    "matrix4_1_inverse=matrix4_1.inv()\n",
    "matrix4_1_inverse"
   ]
  },
  {
   "cell_type": "code",
   "execution_count": 9,
   "id": "d45d7705",
   "metadata": {},
   "outputs": [
    {
     "data": {
      "text/latex": [
       "$\\displaystyle \\left[\\begin{matrix}- \\frac{1}{7} & 0 & \\frac{2}{7}\\\\\\frac{2}{7} & - \\frac{1}{7} & 0\\\\0 & \\frac{2}{7} & - \\frac{1}{7}\\end{matrix}\\right]$"
      ],
      "text/plain": [
       "Matrix([\n",
       "[-1/7,    0,  2/7],\n",
       "[ 2/7, -1/7,    0],\n",
       "[   0,  2/7, -1/7]])"
      ]
     },
     "execution_count": 9,
     "metadata": {},
     "output_type": "execute_result"
    }
   ],
   "source": [
    "matrix4_2=Matrix([[1,4,2],[2,1,4],[4,2,1]])\n",
    "matrix4_2_inverse=matrix4_2.inv()\n",
    "matrix4_2_inverse"
   ]
  },
  {
   "cell_type": "code",
   "execution_count": 10,
   "id": "8a6f68fc",
   "metadata": {},
   "outputs": [
    {
     "data": {
      "text/latex": [
       "$\\displaystyle \\left[\\begin{matrix}- \\frac{1}{7} & 0 & \\frac{2}{7}\\\\0 & \\frac{2}{7} & - \\frac{1}{7}\\\\\\frac{2}{7} & - \\frac{1}{7} & 0\\end{matrix}\\right]$"
      ],
      "text/plain": [
       "Matrix([\n",
       "[-1/7,    0,  2/7],\n",
       "[   0,  2/7, -1/7],\n",
       "[ 2/7, -1/7,    0]])"
      ]
     },
     "execution_count": 10,
     "metadata": {},
     "output_type": "execute_result"
    }
   ],
   "source": [
    "matrix4_3=Matrix([[1,2,4],[2,4,1],[4,1,2]])\n",
    "matrix4_3_inverse=matrix4_3.inv()\n",
    "matrix4_3_inverse"
   ]
  },
  {
   "cell_type": "code",
   "execution_count": 11,
   "id": "54a9b583",
   "metadata": {},
   "outputs": [
    {
     "data": {
      "text/latex": [
       "$\\displaystyle \\left[\\begin{matrix}0 & - \\frac{1}{7} & \\frac{2}{7}\\\\- \\frac{1}{7} & \\frac{2}{7} & 0\\\\\\frac{2}{7} & 0 & - \\frac{1}{7}\\end{matrix}\\right]$"
      ],
      "text/plain": [
       "Matrix([\n",
       "[   0, -1/7,  2/7],\n",
       "[-1/7,  2/7,    0],\n",
       "[ 2/7,    0, -1/7]])"
      ]
     },
     "execution_count": 11,
     "metadata": {},
     "output_type": "execute_result"
    }
   ],
   "source": [
    "matrix4_4=Matrix([[2,1,4],[1,4,2],[4,2,1]])\n",
    "matrix4_4_inverse=matrix4_4.inv()\n",
    "matrix4_4_inverse"
   ]
  },
  {
   "cell_type": "code",
   "execution_count": 12,
   "id": "4e109429",
   "metadata": {},
   "outputs": [
    {
     "data": {
      "text/latex": [
       "$\\displaystyle \\left[\\begin{matrix}2 & 2 & 0\\\\-2 & -2 & 0\\\\0 & 0 & 0\\end{matrix}\\right]$"
      ],
      "text/plain": [
       "Matrix([\n",
       "[ 2,  2, 0],\n",
       "[-2, -2, 0],\n",
       "[ 0,  0, 0]])"
      ]
     },
     "execution_count": 12,
     "metadata": {},
     "output_type": "execute_result"
    }
   ],
   "source": [
    "matrix6_A=Matrix([[3,2,0],[-2,-1,0],[0,0,1]])\n",
    "matrix6_B=matrix6_A-eye(3)\n",
    "matrix6_B"
   ]
  },
  {
   "cell_type": "code",
   "execution_count": 13,
   "id": "44ed0227",
   "metadata": {},
   "outputs": [
    {
     "data": {
      "text/latex": [
       "$\\displaystyle \\left[\\begin{matrix}0 & 0 & 0\\\\0 & 0 & 0\\\\0 & 0 & 0\\end{matrix}\\right]$"
      ],
      "text/plain": [
       "Matrix([\n",
       "[0, 0, 0],\n",
       "[0, 0, 0],\n",
       "[0, 0, 0]])"
      ]
     },
     "execution_count": 13,
     "metadata": {},
     "output_type": "execute_result"
    }
   ],
   "source": [
    "matrix6_B_power2=(matrix6_B**2)\n",
    "matrix6_B_power2"
   ]
  },
  {
   "cell_type": "code",
   "execution_count": 14,
   "id": "ba005e83",
   "metadata": {},
   "outputs": [
    {
     "data": {
      "text/latex": [
       "$\\displaystyle \\left[\\begin{matrix}2 n + 1 & 2 n & 0\\\\- 2 n & 1 - 2 n & 0\\\\0 & 0 & 1\\end{matrix}\\right]$"
      ],
      "text/plain": [
       "Matrix([\n",
       "[2*n + 1,     2*n, 0],\n",
       "[   -2*n, 1 - 2*n, 0],\n",
       "[      0,       0, 1]])"
      ]
     },
     "execution_count": 14,
     "metadata": {},
     "output_type": "execute_result"
    }
   ],
   "source": [
    "matrix6_A_exponent_n1=(matrix6_A**n)\n",
    "matrix6_A_exponent_n1"
   ]
  },
  {
   "cell_type": "code",
   "execution_count": 15,
   "id": "df16fa5c",
   "metadata": {},
   "outputs": [
    {
     "data": {
      "text/latex": [
       "$\\displaystyle \\left[\\begin{matrix}2 n + 1 & 2 n & 0\\\\- 2 n & 1 - 2 n & 0\\\\0 & 0 & 1\\end{matrix}\\right]$"
      ],
      "text/plain": [
       "Matrix([\n",
       "[2*n + 1,     2*n, 0],\n",
       "[   -2*n, 1 - 2*n, 0],\n",
       "[      0,       0, 1]])"
      ]
     },
     "execution_count": 15,
     "metadata": {},
     "output_type": "execute_result"
    }
   ],
   "source": [
    "# A^n= (eye(3) + B)^n, for n>=2 B^n=zeros(3,3) so A^n = eye(3)+n*B\n",
    "matrix6_A_exponent_n2= eye(3)+(matrix6_B*n)\n",
    "matrix6_A_exponent_n2"
   ]
  },
  {
   "cell_type": "code",
   "execution_count": 16,
   "id": "5fae626c",
   "metadata": {},
   "outputs": [
    {
     "name": "stdout",
     "output_type": "stream",
     "text": [
      "{-1 + 2*I, 1 - 2*I}\n",
      "{-3 - 4*I, 3 + 4*I}\n",
      "{4 - 3*I, 4 + 3*I}\n",
      "{I, -1 - I}\n",
      "{-3 - 2*I, -1 - I}\n",
      "{1/2, 1 - I, 2 + 2*I}\n"
     ]
    }
   ],
   "source": [
    "print(solveset(z**2+3+4*I))                          \n",
    "print(solveset(z**2+7-24*I))                         \n",
    "print(solveset(z**2-8*z+25))                         \n",
    "print(solveset(I*z**2+I*z+1+I))                      \n",
    "print(solveset(I*z**2+(4*I-3)*z+I-5))                \n",
    "print(solveset(2*z**3-(7+2*I)*z**2+(11+I)*z-4))      "
   ]
  },
  {
   "cell_type": "code",
   "execution_count": 17,
   "id": "248a9e54",
   "metadata": {},
   "outputs": [
    {
     "data": {
      "text/latex": [
       "$\\displaystyle \\frac{1}{4} + \\frac{\\sqrt{3}}{4} + i \\left(- \\frac{1}{4} + \\frac{\\sqrt{3}}{4}\\right)$"
      ],
      "text/plain": [
       "1/4 + sqrt(3)/4 + I*(-1/4 + sqrt(3)/4)"
      ]
     },
     "execution_count": 17,
     "metadata": {},
     "output_type": "execute_result"
    }
   ],
   "source": [
    "z2=(1+I)/(sqrt(3)+I)\n",
    "z2_cartesian=expand_complex(z2)\n",
    "z2_cartesian"
   ]
  },
  {
   "cell_type": "code",
   "execution_count": 18,
   "id": "22eeaadf",
   "metadata": {},
   "outputs": [
    {
     "data": {
      "text/plain": [
       "[sqrt(2)*exp(I*x)/2]"
      ]
     },
     "execution_count": 18,
     "metadata": {},
     "output_type": "execute_result"
    }
   ],
   "source": [
    "# z = |z|* e^(i*Ɵ)\n",
    "z2_polaire=solve(z2-(abs(z2)*exp(I*x)),[z2]) # x=angle=15\n",
    "z2_polaire"
   ]
  },
  {
   "cell_type": "code",
   "execution_count": 19,
   "id": "e0227fb9",
   "metadata": {},
   "outputs": [
    {
     "data": {
      "text/latex": [
       "$\\displaystyle \\frac{\\sqrt{2}}{4} + \\frac{\\sqrt{6}}{4}$"
      ],
      "text/plain": [
       "sqrt(2)/4 + sqrt(6)/4"
      ]
     },
     "execution_count": 19,
     "metadata": {},
     "output_type": "execute_result"
    }
   ],
   "source": [
    "# Re(z2)=(sqrt(2)/2)*cos(15)\n",
    "cosinus15=(re(z2))/(sqrt(2)/2)\n",
    "simplify(cosinus15)"
   ]
  },
  {
   "cell_type": "code",
   "execution_count": 20,
   "id": "35edd386",
   "metadata": {},
   "outputs": [
    {
     "data": {
      "text/latex": [
       "$\\displaystyle - \\frac{\\sqrt{2}}{4} + \\frac{\\sqrt{6}}{4}$"
      ],
      "text/plain": [
       "-sqrt(2)/4 + sqrt(6)/4"
      ]
     },
     "execution_count": 20,
     "metadata": {},
     "output_type": "execute_result"
    }
   ],
   "source": [
    "# Im(z2)=(sqrt(2)/2)*sin(15)\n",
    "sinus15=(im(z2))/(sqrt(2)/2)\n",
    "simplify(sinus15)"
   ]
  },
  {
   "cell_type": "code",
   "execution_count": 21,
   "id": "9f9a6b69",
   "metadata": {},
   "outputs": [
    {
     "data": {
      "text/latex": [
       "$\\displaystyle 2 - \\sqrt{3}$"
      ],
      "text/plain": [
       "2 - sqrt(3)"
      ]
     },
     "execution_count": 21,
     "metadata": {},
     "output_type": "execute_result"
    }
   ],
   "source": [
    "# tan(15)=sin15/cos(15)\n",
    "tangent15=sinus15/cosinus15\n",
    "simplify(tangent15)"
   ]
  },
  {
   "cell_type": "code",
   "execution_count": 22,
   "id": "a9c71801",
   "metadata": {},
   "outputs": [
    {
     "data": {
      "text/latex": [
       "$\\displaystyle 4096.0 + 4096.0 i$"
      ],
      "text/plain": [
       "4096.0 + 4096.0*I"
      ]
     },
     "execution_count": 22,
     "metadata": {},
     "output_type": "execute_result"
    }
   ],
   "source": [
    "complex1=(1+I)**25\n",
    "complex1_cartesian=complex(complex1)\n",
    "complex1_cartesian_simple=simplify(complex1_cartesian)\n",
    "complex1_cartesian_simple"
   ]
  },
  {
   "cell_type": "code",
   "execution_count": 23,
   "id": "3b57a9f4",
   "metadata": {},
   "outputs": [
    {
     "data": {
      "text/latex": [
       "$\\displaystyle 0.00048828125 - 0.000845727933383241 i$"
      ],
      "text/plain": [
       "0.00048828125 - 0.000845727933383241*I"
      ]
     },
     "execution_count": 23,
     "metadata": {},
     "output_type": "execute_result"
    }
   ],
   "source": [
    "complex2=z2**20\n",
    "complex2_cartesian=complex(complex2)\n",
    "complex2_cartesian_simple=simplify(complex2_cartesian)\n",
    "complex2_cartesian_simple"
   ]
  },
  {
   "cell_type": "code",
   "execution_count": 24,
   "id": "4474828b",
   "metadata": {},
   "outputs": [
    {
     "data": {
      "text/latex": [
       "$\\displaystyle \\left\\{- i \\sqrt{1 - \\frac{2 \\sqrt{5}}{5}}, i \\sqrt{1 - \\frac{2 \\sqrt{5}}{5}}, - i \\sqrt{\\frac{2 \\sqrt{5}}{5} + 1}, i \\sqrt{\\frac{2 \\sqrt{5}}{5} + 1}\\right\\}$"
      ],
      "text/plain": [
       "{-I*sqrt(1 - 2*sqrt(5)/5), I*sqrt(1 - 2*sqrt(5)/5), -I*sqrt(2*sqrt(5)/5 + 1), I*sqrt(2*sqrt(5)/5 + 1)}"
      ]
     },
     "execution_count": 24,
     "metadata": {},
     "output_type": "execute_result"
    }
   ],
   "source": [
    "solveset((z+1)**5-(z-1)**5)"
   ]
  },
  {
   "cell_type": "code",
   "execution_count": 25,
   "id": "d4960172",
   "metadata": {},
   "outputs": [
    {
     "data": {
      "text/latex": [
       "$\\displaystyle \\sqrt{5 - 2 \\sqrt{5}}$"
      ],
      "text/plain": [
       "sqrt(5 - 2*sqrt(5))"
      ]
     },
     "execution_count": 25,
     "metadata": {},
     "output_type": "execute_result"
    }
   ],
   "source": [
    "# z= ±i/(tan(36)) ou z= ±i/(tan(72))\n",
    "tangent36=1/sqrt((5+2*sqrt(5))/5)\n",
    "tangent36_simple=nsimplify(tangent36)\n",
    "tangent36_simple"
   ]
  }
 ],
 "metadata": {
  "kernelspec": {
   "display_name": "Python 3 (ipykernel)",
   "language": "python",
   "name": "python3"
  },
  "language_info": {
   "codemirror_mode": {
    "name": "ipython",
    "version": 3
   },
   "file_extension": ".py",
   "mimetype": "text/x-python",
   "name": "python",
   "nbconvert_exporter": "python",
   "pygments_lexer": "ipython3",
   "version": "3.9.13"
  }
 },
 "nbformat": 4,
 "nbformat_minor": 5
}
